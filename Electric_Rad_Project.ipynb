{
 "cells": [
  {
   "cell_type": "markdown",
   "metadata": {},
   "source": [
    "# Radiative Electric Field due to Oscillating Charge\n",
    "\n",
    "## Introduction\n",
    "\n",
    "A static point-charge creates an electric field in all points in space. These field lines point radially outwards and decreases with a $\\frac{1}{r^2}$ dependency. What happens when you introduce a velocity or even an acceleration to this point-charge? The fields radiated by the point-charged become much more complex and can usually be described using electrodyanmical laws. \n",
    "\n",
    "When a point charge begins to accelerate, a special field called radiation transports energy irreversibly out to infinity. Technically, a change in electric fields creates new magnetic fields, which in turn, the new magnetic fields create new electric fields. This takes the form of electro-magnetic waves described by Maxwell's equations, but for our purposes, we will focus on the radiative electric field only. \n",
    "\n",
    "## Goal\n",
    "The goal of this program is to explore how a radiative electric field due to a point-charge evolves over time. Specifically, treating the point-charge as an oscillator.\n",
    "\n",
    "## Theory\n",
    "\n",
    "At an instantaneous point in time $t$, the electric radiative field can be calculated using:\n",
    "$$ \\vec{E_{rad}} = \\frac{1}{4 \\pi \\epsilon_0} \\frac{q \\vec{a_{perp}}}{c^2 r} $$\n",
    "\n",
    "where $\\epsilon_0$ is a pearmittivity of free space, $q$ is the charge, $c$ is the speed of light, $r$ is the distance from point charge and observation location, and $\\vec{a_{perp}}$ is the acceleration that is perpendicular to $\\vec{r}$. This is a pretty trivial field to calculate since there is nothing changing.\n",
    "\n",
    "To create a system in which the radiation evolves over time, the source (point-charge) must also evolve over time. Suppose we have a hydrogen atom that has one electron bonded to the nucleus. Classically, we can model the bond between the electron and hydrogen nucleus as a mass on a spring. The time evolution solutions for a simple harmonic oscillator is given by: \n",
    "\n",
    "$$ y(t) = A \\;cos(\\omega t) $$\n",
    "$$ v_y(t) = - A \\omega sin(\\omega t)$$\n",
    "$$ a_y(t) = - A \\omega^2 cos(\\omega t) $$\n",
    "\n",
    "where $y(t)$ is the y position of the oscillating mass, $v_y(t)$ is the speed in the y-direction, $a_y(t)$ is the acceleration in the y-direction, and  $\\omega = \\sqrt{\\frac{k}{m}}$. For our case, $k$ is the bond stifness between the hydrogen nucleus and the electron, and $m$ is the mass of the electron. Now that we have something driving our point-charge, the radiative electric field will begin to evovle over time.\n",
    "\n",
    "There is one more issue that arises when trying to simulate the time-evolution of $\\vec{E_{rad}}$. In reality, there is a time delay between the observation points close to the particle and point farther away from the particle. Therefore, we must adjust our analytical solution for $\\vec{E_{rad}}$. \n",
    "\n",
    "To begin, lets start by generalizing $\\vec{a_{perp}}$ in terms of the observation location $\\vec{r}$ and the full acceleraction vector $\\vec{A}$ We can re-write $\\vec{a_{perp}}$ as:\n",
    "\n",
    "$$ \\vec{a_{perp}} =  ((\\vec{A_{max}} \\cdot \\hat{r})\\hat{r} -  \\vec{A_{max}}) $$\n",
    "\n",
    "Next we still need to include some sort of time evolution to the  $\\vec{E_{rad}}$ solution. Fortunately we know that the radiative electric field depends on the acceleration. Since we already have a predefined solution for acceleration, $a_y(t)$, which depends on $cos(\\omega t) $, we can include this the general solution to evolve it over time. For this to be mathmatically true, $\\vec{A_{max}}$ must equal the maximum amplitude ($ A \\omega^2$), times a unit vector of $(0,1,0)$. The cosine will take care of the diminishing effects in the new $\\vec{E_{rad}}$ solution.\n",
    "\n",
    "We still need to cover the time delay, luckily, we can take advantage of the cosine and add a phase shift that depends on distance. Since radiation travels at the speed of light $c$, then the time-phase shift will end up being $\\frac{r}{c}$.\n",
    "\n",
    "Finally, our analytical solution of a radiative electric field is:\n",
    "\n",
    "$$ \\vec{E_{rad}} = \\frac{1}{4 \\pi \\epsilon_0} \\frac{q}{c^2 r}  ((\\vec{A_{max}} \\cdot \\hat{r})\\hat{r} -  \\vec{A_{max}}) \\; cos(\\omega (t - \\frac{r}{c}))  $$\n",
    "\n",
    "## Simulation \n",
    "\n",
    "This program will visualize the time-evolution of a radiative electric field due to an oscillating electron. \n",
    "\n",
    "### Assupmptions\n",
    "\n",
    "- The equations used assume propagation in a vacuum\n",
    "- Ball-Spring Model of Electron and Hydrogen Nucleus\n",
    "- $k = \\frac{q^2}{\\alpha}$, where $\\alpha$ is the polarizability of hydrogen\n",
    "- For visualization purposes, electron and rad fields are scaled accordingly\n",
    "- Magnetic and Electric velocity fields are negligible"
   ]
  },
  {
   "cell_type": "code",
   "execution_count": 1,
   "metadata": {},
   "outputs": [
    {
     "data": {
      "text/html": [
       "<div id=\"glowscript\" class=\"glowscript\"></div>"
      ],
      "text/plain": [
       "<IPython.core.display.HTML object>"
      ]
     },
     "metadata": {},
     "output_type": "display_data"
    },
    {
     "data": {
      "application/javascript": [
       "if (typeof Jupyter !== \"undefined\") { window.__context = { glowscript_container: $(\"#glowscript\").removeAttr(\"id\")};}else{ element.textContent = ' ';}"
      ],
      "text/plain": [
       "<IPython.core.display.Javascript object>"
      ]
     },
     "metadata": {},
     "output_type": "display_data"
    }
   ],
   "source": [
    "import numpy as np\n",
    "import matplotlib.pyplot\n",
    "#animate with vpython\n",
    "from vpython import * \n"
   ]
  },
  {
   "cell_type": "markdown",
   "metadata": {
    "scrolled": true
   },
   "source": [
    "The 'Erad' function creates multiple observation points using spherical coordinates. It calculates the radiative electric fields at the created observation points. Displays an animation of the time evolution for a given set of 'numTheta' and 'numPhi' parameters. These parameters dictate how many sets of observation locations the user wants in the theta and phi directions."
   ]
  },
  {
   "cell_type": "code",
   "execution_count": 2,
   "metadata": {},
   "outputs": [],
   "source": [
    "def Erad(numTheta, numPhi):\n",
    "    # Constants\n",
    "    scene = canvas(title=\"Erad due to Oscillating Electron\")\n",
    "\n",
    "    q = 1.6e-19 #C\n",
    "    alpha = 7.4e-41\n",
    "    e_0 = 8.85e-12\n",
    "    mu_0 = 4*np.pi*10**-7\n",
    "    R = 2.82e-15\n",
    "    c = 3e8\n",
    "    a = 5.29e-11 #Bohr Radius\n",
    "    E_0 = 13.6 \n",
    "    k = q**2 / alpha\n",
    "    m = 9.11e-31\n",
    "    A = 4*a\n",
    "    oofpez = 9e9\n",
    "\n",
    "    omega = np.sqrt(k/m) #*10**-25\n",
    "\n",
    "    h = 10**-18\n",
    "    Nsteps = 1000 #N steps for T seconds of evolution\n",
    "\n",
    "    t = np.arange(0,Nsteps*h,h)\n",
    "    y = A*np.cos(omega*t)\n",
    "    Ay = -A*(omega**2)\n",
    "    Avec = Ay*vec(0,1,0)\n",
    "\n",
    "    rsource = []\n",
    "\n",
    "    for i in range(np.size(y)):\n",
    "        rsource.append(vec(0,y[i],0))\n",
    "\n",
    "\n",
    "    robs =  []\n",
    "    Efields = []\n",
    "    Erad = []\n",
    "    radiation = []\n",
    "\n",
    "    N = 30\n",
    "    x = A*5*10**11\n",
    "    L = 2*x\n",
    "    dx = L/N\n",
    "\n",
    "    theta = -np.pi/2\n",
    "    phi = 0\n",
    "\n",
    "    dtheta = pi/numTheta\n",
    "    dphi = 2*pi/numPhi\n",
    "\n",
    "    ## Creates observation locations using spherical coords.\n",
    "    while theta < np.pi/2:\n",
    "        phi = 0\n",
    "        while phi < 2*np.pi:\n",
    "            x = A*5*10**11\n",
    "            for n in range(0,N):\n",
    "                robs.append(x*vec(np.cos(phi)*np.cos(theta),np.sin(theta),np.sin(phi)*np.cos(theta)))\n",
    "                x = x + dx\n",
    "            phi = phi + dphi\n",
    "        theta = theta + dtheta\n",
    "\n",
    "    RadNum = np.size(robs)\n",
    "    ## Erad size [Nsteps,RadNum] [time,robs]\n",
    "\n",
    "    print(\"Loading...\")\n",
    "\n",
    "    ## Calculates Erad for each time step and each observation location\n",
    "    for n in range(0,RadNum):\n",
    "        ## distance is farther from amplitude of electron\n",
    "        r = robs[n]\n",
    "        Efields = []\n",
    "\n",
    "        for i in range(0,Nsteps):\n",
    "            Efield = oofpez * q /(c**2 * mag(r)) * (dot(Avec,hat(r)) * hat(r) - Avec) * np.cos(omega*(t[i] + (mag(r)/c))) *13**6\n",
    "            Efields.append(Efield)\n",
    "        Erad.append(Efields)\n",
    "\n",
    "        rad = arrow(pos = r, axis = Erad[n][0], color=color.yellow)\n",
    "        radiation.append(rad)\n",
    "\n",
    "    electron  = sphere(pos = rsource[0]*10**11, radius = A*12**10, color = color.blue)\n",
    "    ## Animate the evolution of Erad\n",
    "    scene.pause()\n",
    "    for i in range(1,Nsteps):\n",
    "        rate(80)\n",
    "        electron.pos = rsource[i] *10**11\n",
    "\n",
    "        for n in range(0,RadNum):\n",
    "            radiation[n].axis = Erad[n][i]\n",
    "    return print(\"Animation Complete!\")"
   ]
  },
  {
   "cell_type": "markdown",
   "metadata": {},
   "source": [
    "The cell below animates $\\vec{E_{rad}}$ along the x-axis."
   ]
  },
  {
   "cell_type": "code",
   "execution_count": 3,
   "metadata": {},
   "outputs": [
    {
     "data": {
      "text/html": [
       "<div id=\"glowscript\" class=\"glowscript\"></div>"
      ],
      "text/plain": [
       "<IPython.core.display.HTML object>"
      ]
     },
     "metadata": {},
     "output_type": "display_data"
    },
    {
     "data": {
      "application/javascript": [
       "if (typeof Jupyter !== \"undefined\") { window.__context = { glowscript_container: $(\"#glowscript\").removeAttr(\"id\")};}else{ element.textContent = ' ';}"
      ],
      "text/plain": [
       "<IPython.core.display.Javascript object>"
      ]
     },
     "metadata": {},
     "output_type": "display_data"
    },
    {
     "name": "stdout",
     "output_type": "stream",
     "text": [
      "Loading...\n"
     ]
    },
    {
     "data": {
      "application/javascript": [
       "if (typeof Jupyter !== \"undefined\") {require.undef(\"nbextensions/vpython_libraries/glow.min\");}else{element.textContent = ' ';}"
      ],
      "text/plain": [
       "<IPython.core.display.Javascript object>"
      ]
     },
     "metadata": {},
     "output_type": "display_data"
    },
    {
     "data": {
      "application/javascript": [
       "if (typeof Jupyter !== \"undefined\") {require.undef(\"nbextensions/vpython_libraries/glowcomm\");}else{element.textContent = ' ';}"
      ],
      "text/plain": [
       "<IPython.core.display.Javascript object>"
      ]
     },
     "metadata": {},
     "output_type": "display_data"
    },
    {
     "data": {
      "application/javascript": [
       "if (typeof Jupyter !== \"undefined\") {require.undef(\"nbextensions/vpython_libraries/jquery-ui.custom.min\");}else{element.textContent = ' ';}"
      ],
      "text/plain": [
       "<IPython.core.display.Javascript object>"
      ]
     },
     "metadata": {},
     "output_type": "display_data"
    },
    {
     "data": {
      "application/javascript": [
       "if (typeof Jupyter !== \"undefined\") {require([\"nbextensions/vpython_libraries/glow.min\"], function(){console.log(\"GLOW LOADED\");});}else{element.textContent = ' ';}"
      ],
      "text/plain": [
       "<IPython.core.display.Javascript object>"
      ]
     },
     "metadata": {},
     "output_type": "display_data"
    },
    {
     "data": {
      "application/javascript": [
       "if (typeof Jupyter !== \"undefined\") {require([\"nbextensions/vpython_libraries/glowcomm\"], function(){console.log(\"GLOWCOMM LOADED\");});}else{element.textContent = ' ';}"
      ],
      "text/plain": [
       "<IPython.core.display.Javascript object>"
      ]
     },
     "metadata": {},
     "output_type": "display_data"
    },
    {
     "data": {
      "application/javascript": [
       "if (typeof Jupyter !== \"undefined\") {require([\"nbextensions/vpython_libraries/jquery-ui.custom.min\"], function(){console.log(\"JQUERY LOADED\");});}else{element.textContent = ' ';}"
      ],
      "text/plain": [
       "<IPython.core.display.Javascript object>"
      ]
     },
     "metadata": {},
     "output_type": "display_data"
    },
    {
     "name": "stdout",
     "output_type": "stream",
     "text": [
      "Animation Complete!\n"
     ]
    }
   ],
   "source": [
    "Erad(2,2)"
   ]
  },
  {
   "cell_type": "markdown",
   "metadata": {},
   "source": [
    "The cell below animates $\\vec{E_{rad}}$ along the x-y plane."
   ]
  },
  {
   "cell_type": "code",
   "execution_count": 4,
   "metadata": {},
   "outputs": [
    {
     "data": {
      "text/html": [
       "<div id=\"glowscript\" class=\"glowscript\"></div>"
      ],
      "text/plain": [
       "<IPython.core.display.HTML object>"
      ]
     },
     "metadata": {},
     "output_type": "display_data"
    },
    {
     "data": {
      "application/javascript": [
       "if (typeof Jupyter !== \"undefined\") { window.__context = { glowscript_container: $(\"#glowscript\").removeAttr(\"id\")};}else{ element.textContent = ' ';}"
      ],
      "text/plain": [
       "<IPython.core.display.Javascript object>"
      ]
     },
     "metadata": {},
     "output_type": "display_data"
    },
    {
     "name": "stdout",
     "output_type": "stream",
     "text": [
      "Loading...\n",
      "Animation Complete!\n"
     ]
    }
   ],
   "source": [
    "Erad(10,2)"
   ]
  },
  {
   "cell_type": "markdown",
   "metadata": {},
   "source": [
    "The cell below animates $\\vec{E_{rad}}$ along the x-z plane."
   ]
  },
  {
   "cell_type": "code",
   "execution_count": 5,
   "metadata": {},
   "outputs": [
    {
     "data": {
      "text/html": [
       "<div id=\"glowscript\" class=\"glowscript\"></div>"
      ],
      "text/plain": [
       "<IPython.core.display.HTML object>"
      ]
     },
     "metadata": {},
     "output_type": "display_data"
    },
    {
     "data": {
      "application/javascript": [
       "if (typeof Jupyter !== \"undefined\") { window.__context = { glowscript_container: $(\"#glowscript\").removeAttr(\"id\")};}else{ element.textContent = ' ';}"
      ],
      "text/plain": [
       "<IPython.core.display.Javascript object>"
      ]
     },
     "metadata": {},
     "output_type": "display_data"
    },
    {
     "name": "stdout",
     "output_type": "stream",
     "text": [
      "Loading...\n",
      "Animation Complete!\n"
     ]
    }
   ],
   "source": [
    "Erad(2,20)"
   ]
  },
  {
   "cell_type": "markdown",
   "metadata": {},
   "source": [
    "The cell below animates $\\vec{E_{rad}}$ along the x-y-z plane."
   ]
  },
  {
   "cell_type": "code",
   "execution_count": 6,
   "metadata": {
    "scrolled": true
   },
   "outputs": [
    {
     "data": {
      "text/html": [
       "<div id=\"glowscript\" class=\"glowscript\"></div>"
      ],
      "text/plain": [
       "<IPython.core.display.HTML object>"
      ]
     },
     "metadata": {},
     "output_type": "display_data"
    },
    {
     "data": {
      "application/javascript": [
       "if (typeof Jupyter !== \"undefined\") { window.__context = { glowscript_container: $(\"#glowscript\").removeAttr(\"id\")};}else{ element.textContent = ' ';}"
      ],
      "text/plain": [
       "<IPython.core.display.Javascript object>"
      ]
     },
     "metadata": {},
     "output_type": "display_data"
    },
    {
     "name": "stdout",
     "output_type": "stream",
     "text": [
      "Loading...\n",
      "Animation Complete!\n"
     ]
    }
   ],
   "source": [
    "Erad(4,6)"
   ]
  },
  {
   "cell_type": "markdown",
   "metadata": {},
   "source": [
    "The cell below animates $\\vec{E_{rad}}$ along the x-y-z plane with even more observation points.."
   ]
  },
  {
   "cell_type": "code",
   "execution_count": null,
   "metadata": {},
   "outputs": [],
   "source": [
    "Erad(8,20)"
   ]
  },
  {
   "cell_type": "markdown",
   "metadata": {},
   "source": [
    "## Conclusion \n",
    "\n",
    "This project is definitely theory heavy. The program uses a lot of lists and for-loops, which is computationally demanding. Creating a class with specified objects, alongside vectorization methods, will definitely cut down the total runtime and allow for even more observation points. In the future, it would be interesting to model the radiative electric field due to a particle in different types of motion. "
   ]
  },
  {
   "cell_type": "code",
   "execution_count": null,
   "metadata": {},
   "outputs": [],
   "source": []
  },
  {
   "cell_type": "code",
   "execution_count": null,
   "metadata": {},
   "outputs": [],
   "source": []
  },
  {
   "cell_type": "code",
   "execution_count": null,
   "metadata": {},
   "outputs": [],
   "source": []
  },
  {
   "cell_type": "code",
   "execution_count": null,
   "metadata": {},
   "outputs": [],
   "source": []
  }
 ],
 "metadata": {
  "kernelspec": {
   "display_name": "Python 3",
   "language": "python",
   "name": "python3"
  },
  "language_info": {
   "codemirror_mode": {
    "name": "ipython",
    "version": 3
   },
   "file_extension": ".py",
   "mimetype": "text/x-python",
   "name": "python",
   "nbconvert_exporter": "python",
   "pygments_lexer": "ipython3",
   "version": "3.7.4"
  }
 },
 "nbformat": 4,
 "nbformat_minor": 2
}
