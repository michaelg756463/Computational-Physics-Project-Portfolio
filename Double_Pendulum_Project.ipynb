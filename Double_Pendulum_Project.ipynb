{
 "cells": [
  {
   "cell_type": "markdown",
   "metadata": {},
   "source": [
    "# Exploration of a Double Pendulum's Behavior\n",
    "\n",
    "## Introduction\n",
    "A double pendulum consists of a fixed pendulum attached to another pendulum. It is a very simple physical system but it results in chaotic behavior that is sensitive to its initial conditions. \n",
    "\n",
    "## Goal \n",
    "The goal of this jupyter notebook is to explore the behavior of this system under different sets of controlled initial conditions. Specifically, how will the system evolve over time with different masses with equal rod length or vice versa?\n",
    "\n",
    "## Assumptions\n",
    "- There is no energy loss or increase\n",
    "- The only energies involved are kinetic and potential energies of the two pendulums\n",
    "- There is no friction\n",
    "- The rods are massless regardless of length\n",
    "\n",
    "## Simulation\n",
    "This simulation will use RK4 integration to solve a coupled first order-differential equation. The fixed initial condition is for the first pendulum to begin at $\\pi/2$ while the second pendulum is to be 0 degrees with respect to its pivot point. This simulation will investigate four different scenarios. The first two scenarios will hold lengths constant while the first mass being heavier than the second and the second mass is heavier than the first. The last two scenarios hold the masses constant while differing the lengths between the two pendulums. \n",
    "\n",
    "The four first order-differential equations used the pendulums are:\n",
    "\n",
    "$$ \\frac{d\\theta_1}{dt} = \\omega_1 $$\n",
    "$$ \\frac{d\\theta_2}{dt} = \\omega_2 $$\n",
    "\n",
    "\n",
    "$$ \\frac{d\\omega_1}{dt} = \\frac{-g(2m_1+m_2)sin(\\theta_1)-m_2gsin(\\theta_1-2\\theta_2)-2sin(\\theta_1-\\theta_2)m_2\\omega_2^2 L_2 + \\omega_1^2 L_1cos(\\theta_1-\\theta_2))}{L_1(2m_1+ m_2 - m_2cos(2\\theta_1 - 2\\theta_2))} $$\n",
    "\n",
    "$$ \\frac{d\\omega_2}{dt} = \\frac{2sin(\\theta_1-\\theta_2)(\\omega_1^2 L_1(m_1+m_2)+g(m_1+m_2)cos(\\theta_1) + \\omega_2^2 L_2 m_2 cos(\\theta_1 - \\theta_2))}{L_2(2m_1 +m_2 - m_2cos(2\\theta_1 - 2\\theta_2))} $$\n",
    "\n",
    "where $\\omega$ is the angular speed and $\\frac{d\\omega}{dt}$ is the angular acceleration"
   ]
  },
  {
   "cell_type": "code",
   "execution_count": 15,
   "metadata": {},
   "outputs": [],
   "source": [
    "from vpython import *\n",
    "import ode\n",
    "import numpy as np\n",
    "import matplotlib.pyplot as plt"
   ]
  },
  {
   "cell_type": "markdown",
   "metadata": {},
   "source": [
    "The function 'dpendulum', handles the calculations of new derivatives for the acceleration and angular speed for each pendulum."
   ]
  },
  {
   "cell_type": "code",
   "execution_count": 16,
   "metadata": {},
   "outputs": [],
   "source": [
    "def dpendulum(dep, t):\n",
    "    \"\"\" Calculate and return the derivative [dtheta/dt, domega/dt] evaluated as a function of y, dy/dt, and t\n",
    "    where y is the dependent variable.\n",
    "    \n",
    "    Keyword arguments:\n",
    "    t -- time at the beginning of the time step\n",
    "    dep -- an array of the dependent variable and its derivative [y, dy/dt]_n at time t\n",
    "    \"\"\"    \n",
    "    g = 9.8\n",
    "    \n",
    "    theta1 = dep[0]\n",
    "    omega1 = dep[1]\n",
    "    theta2 = dep[2]\n",
    "    omega2 = dep[3]\n",
    "    \n",
    "    deriv = np.zeros(4)\n",
    "    \n",
    "    deriv[0] = omega1 #dtheta/dt\n",
    "    A1 = -g*(2*m1+m2)*np.sin(theta1)-m2*g*np.sin(theta1-2*theta2)\n",
    "    A2 = -2*np.sin(theta1-theta2)*m2*((omega2**2)*L2 + (omega1**2)*L1*np.cos(theta1-theta2))\n",
    "    A3 = L1*(2*m1+ m2 - m2*np.cos(2*theta1 - 2*theta2))\n",
    "   \n",
    "    deriv[1] = (A1 + A2)/ A3\n",
    "    \n",
    "    deriv[2] = omega2\n",
    "    \n",
    "    B1 = 2*np.sin(theta1-theta2)*((omega1**2)*L1*(m1+m2)+g*(m1+m2)*np.cos(theta1) + (omega2**2)*L2*m2*np.cos(theta1-theta2))\n",
    "    B2 = L2*(2*m1 +m2 - m2*np.cos(2*theta1 - 2*theta2))\n",
    "    \n",
    "    deriv[3] = B1/B2\n",
    "    \n",
    "    return deriv\n"
   ]
  },
  {
   "cell_type": "markdown",
   "metadata": {},
   "source": [
    "The function 'pcalc', takes the initial conditions for the mass and length of each pendulum. Once the values for $\\theta$ and $\\omega$ have been calculated, the arrays of the corresponding pendulums angles, angular speeds, as well as time, are returned."
   ]
  },
  {
   "cell_type": "code",
   "execution_count": 17,
   "metadata": {},
   "outputs": [],
   "source": [
    "def pcalc(L1,m1,L2,m2):\n",
    "    \n",
    "    #dependent variables\n",
    "    theta1_0 = np.pi/2\n",
    "    theta2_0 = 0\n",
    "    omega1_0 = 0 #initial speed of theta1\n",
    "    omega2_0 = 0\n",
    "\n",
    "    data = np.array([theta1_0, omega1_0, theta2_0, omega2_0]) #initialize array to store dependent variables\n",
    "\n",
    "    #independent variable\n",
    "    t = 0\n",
    "    h = 1e-4\n",
    "    Nsteps = int(10/h) #N steps for T seconds of evolution\n",
    "\n",
    "    #create arrays needed for plotting theta vs. t and omega vs. t\n",
    "    tarr = np.zeros(Nsteps)\n",
    "    theta1arr = np.zeros(Nsteps)\n",
    "    theta2arr = np.zeros(Nsteps)\n",
    "\n",
    "    omega1arr = np.zeros(Nsteps)\n",
    "    omega2arr = np.zeros(Nsteps)\n",
    "\n",
    "    tarr[0] = t\n",
    "    theta1arr[0] = theta1_0\n",
    "    theta2arr[0] = theta2_0\n",
    "\n",
    "    omega1arr[0] = omega1_0\n",
    "    omega2arr[0] = omega2_0\n",
    "\n",
    "    #create a time evolution loop\n",
    "\n",
    "    for n in range(1,Nsteps):\n",
    "\n",
    "        data = ode.RK4(dpendulum, data, t, h)\n",
    "\n",
    "        t = t + h\n",
    "\n",
    "        tarr[n] = t\n",
    "        theta1arr[n] = data[0]\n",
    "        omega1arr[n] = data[1]\n",
    "        theta2arr[n] = data[2]\n",
    "        omega2arr[n] = data[3]\n",
    "        \n",
    "    return theta1arr, omega1arr, theta2arr, omega2arr, tarr\n"
   ]
  },
  {
   "cell_type": "markdown",
   "metadata": {},
   "source": [
    "The 'animation' function accepts the $\\theta$ arrays for each pendulum as well as their massess. The animation is then created and displayed."
   ]
  },
  {
   "cell_type": "code",
   "execution_count": 18,
   "metadata": {},
   "outputs": [],
   "source": [
    "def animation(p1, m1, p2, m2): \n",
    "    scene = canvas(title=\"Double Pendulum\")\n",
    "\n",
    "\n",
    "    x1array = L1*np.sin(p1)\n",
    "    y1array = -L1*np.cos(p1)\n",
    "\n",
    "\n",
    "    x2array = x1array + L2*np.sin(p2)\n",
    "    y2array = y1array - L2*np.cos(p2)\n",
    "\n",
    "\n",
    "    ball1 = sphere(pos = vec(x1array[0],y1array[0],0), radius = m1*.05, make_trail = True, color = color.blue)\n",
    "    rod1 = cylinder(pos = vec(0,0,0),radius = 2*.025, axis = ball1.pos)\n",
    "\n",
    "    ball2 = sphere(pos = vec(x2array[0],y2array[0],0), radius = m2*.05, make_trail = True, color = color.red)\n",
    "    rod2 = cylinder(pos = ball1.pos ,radius = 2*.025, axis = ball2.pos - ball1.pos)\n",
    "    \n",
    "    h = 1e-4\n",
    "    Nsteps = int(10/h)\n",
    "    \n",
    "    scene.pause()\n",
    "\n",
    "    for n in range(1,Nsteps):\n",
    "        rate(10000)\n",
    "        ball1.pos = vec(x1array[n],y1array[n],0)\n",
    "        rod1.axis = ball1.pos\n",
    "\n",
    "        ball2.pos = vec(x2array[n],y2array[n],0)\n",
    "        rod2.pos = ball1.pos\n",
    "        rod2.axis = ball2.pos - ball1.pos\n"
   ]
  },
  {
   "cell_type": "markdown",
   "metadata": {},
   "source": [
    "## Equal Lengths ($L_1 = L_2$), $M_1$ larger than $M_2$"
   ]
  },
  {
   "cell_type": "code",
   "execution_count": 19,
   "metadata": {},
   "outputs": [],
   "source": [
    "L1 = 4\n",
    "L2 = 4\n",
    "m1 = 8\n",
    "m2 = 2\n",
    "\n",
    "th1,om1,th2,om2,time = pcalc(L1,m1,L2,m2)"
   ]
  },
  {
   "cell_type": "code",
   "execution_count": 20,
   "metadata": {},
   "outputs": [
    {
     "data": {
      "text/html": [
       "<div id=\"glowscript\" class=\"glowscript\"></div>"
      ],
      "text/plain": [
       "<IPython.core.display.HTML object>"
      ]
     },
     "metadata": {},
     "output_type": "display_data"
    },
    {
     "data": {
      "application/javascript": [
       "if (typeof Jupyter !== \"undefined\") { window.__context = { glowscript_container: $(\"#glowscript\").removeAttr(\"id\")};}else{ element.textContent = ' ';}"
      ],
      "text/plain": [
       "<IPython.core.display.Javascript object>"
      ]
     },
     "metadata": {},
     "output_type": "display_data"
    }
   ],
   "source": [
    "animation(th1, m1, th2, m2)"
   ]
  },
  {
   "cell_type": "markdown",
   "metadata": {},
   "source": [
    "## Equal Lengths ($L_1 = L_2$), $M_2$ larger than $M_1$"
   ]
  },
  {
   "cell_type": "code",
   "execution_count": 21,
   "metadata": {},
   "outputs": [],
   "source": [
    "L1 = 4\n",
    "L2 = 4\n",
    "m1 = 2\n",
    "m2 = 8\n",
    "\n",
    "th1,om1,th2,om2,time = pcalc(L1,m1,L2,m2)"
   ]
  },
  {
   "cell_type": "code",
   "execution_count": 22,
   "metadata": {},
   "outputs": [
    {
     "data": {
      "text/html": [
       "<div id=\"glowscript\" class=\"glowscript\"></div>"
      ],
      "text/plain": [
       "<IPython.core.display.HTML object>"
      ]
     },
     "metadata": {},
     "output_type": "display_data"
    },
    {
     "data": {
      "application/javascript": [
       "if (typeof Jupyter !== \"undefined\") { window.__context = { glowscript_container: $(\"#glowscript\").removeAttr(\"id\")};}else{ element.textContent = ' ';}"
      ],
      "text/plain": [
       "<IPython.core.display.Javascript object>"
      ]
     },
     "metadata": {},
     "output_type": "display_data"
    }
   ],
   "source": [
    "animation(th1, m1, th2, m2)"
   ]
  },
  {
   "cell_type": "markdown",
   "metadata": {},
   "source": [
    "## Equal Masses ($M_1 = M_2$), $L_1$ larger than $L_2$"
   ]
  },
  {
   "cell_type": "code",
   "execution_count": 23,
   "metadata": {},
   "outputs": [],
   "source": [
    "L1 = 8\n",
    "L2 = 2\n",
    "m1 = 4\n",
    "m2 = 4\n",
    "\n",
    "th1,om1,th2,om2,time = pcalc(L1,m1,L2,m2)"
   ]
  },
  {
   "cell_type": "code",
   "execution_count": 24,
   "metadata": {},
   "outputs": [
    {
     "data": {
      "text/html": [
       "<div id=\"glowscript\" class=\"glowscript\"></div>"
      ],
      "text/plain": [
       "<IPython.core.display.HTML object>"
      ]
     },
     "metadata": {},
     "output_type": "display_data"
    },
    {
     "data": {
      "application/javascript": [
       "if (typeof Jupyter !== \"undefined\") { window.__context = { glowscript_container: $(\"#glowscript\").removeAttr(\"id\")};}else{ element.textContent = ' ';}"
      ],
      "text/plain": [
       "<IPython.core.display.Javascript object>"
      ]
     },
     "metadata": {},
     "output_type": "display_data"
    }
   ],
   "source": [
    "animation(th1, m1, th2, m2)"
   ]
  },
  {
   "cell_type": "markdown",
   "metadata": {},
   "source": [
    "## Equal Masses ($M_1 = M_2$), $L_2$ larger than $L_1$"
   ]
  },
  {
   "cell_type": "code",
   "execution_count": 25,
   "metadata": {},
   "outputs": [],
   "source": [
    "L1 = 2\n",
    "L2 = 8\n",
    "m1 = 4\n",
    "m2 = 4\n",
    "\n",
    "th1,om1,th2,om2,time = pcalc(L1,m1,L2,m2)"
   ]
  },
  {
   "cell_type": "code",
   "execution_count": null,
   "metadata": {},
   "outputs": [
    {
     "data": {
      "text/html": [
       "<div id=\"glowscript\" class=\"glowscript\"></div>"
      ],
      "text/plain": [
       "<IPython.core.display.HTML object>"
      ]
     },
     "metadata": {},
     "output_type": "display_data"
    },
    {
     "data": {
      "application/javascript": [
       "if (typeof Jupyter !== \"undefined\") { window.__context = { glowscript_container: $(\"#glowscript\").removeAttr(\"id\")};}else{ element.textContent = ' ';}"
      ],
      "text/plain": [
       "<IPython.core.display.Javascript object>"
      ]
     },
     "metadata": {},
     "output_type": "display_data"
    }
   ],
   "source": [
    "animation(th1, m1, th2, m2)"
   ]
  },
  {
   "cell_type": "markdown",
   "metadata": {},
   "source": [
    "## Conclusion\n",
    "\n",
    "This simulation is versatile so that the double pendulum initial conditions can be modified with ease. After running the simulation four times, we can see that the behavior of the system varies wildly when changing the masses and lengths. \n",
    "\n",
    "## Citations\n",
    "Differential Equations - https://www.myphysicslab.com/pendulum/double-pendulum-en.html "
   ]
  },
  {
   "cell_type": "code",
   "execution_count": null,
   "metadata": {},
   "outputs": [],
   "source": []
  }
 ],
 "metadata": {
  "kernelspec": {
   "display_name": "Python 3",
   "language": "python",
   "name": "python3"
  },
  "language_info": {
   "codemirror_mode": {
    "name": "ipython",
    "version": 3
   },
   "file_extension": ".py",
   "mimetype": "text/x-python",
   "name": "python",
   "nbconvert_exporter": "python",
   "pygments_lexer": "ipython3",
   "version": "3.7.4"
  }
 },
 "nbformat": 4,
 "nbformat_minor": 2
}
